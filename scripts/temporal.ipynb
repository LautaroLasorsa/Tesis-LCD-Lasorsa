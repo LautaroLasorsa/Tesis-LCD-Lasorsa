{
 "cells": [
  {
   "cell_type": "code",
   "execution_count": 102,
   "metadata": {},
   "outputs": [],
   "source": [
    " import pandas as pd\n",
    " import numpy as np\n",
    " import matplotlib.pyplot as plt\n",
    "\n",
    " esperanza_vida = pd.read_csv(\"../datos reales/esperanza_vida.csv\").drop(\"Series Code\", axis=1)"
   ]
  },
  {
   "cell_type": "code",
   "execution_count": 103,
   "metadata": {},
   "outputs": [],
   "source": [
    "colmujer = esperanza_vida['Series Name'].unique()[0]\n",
    "colhombre = esperanza_vida['Series Name'].unique()[1]\n",
    "coltotal = esperanza_vida['Series Name'].unique()[2]"
   ]
  },
  {
   "cell_type": "code",
   "execution_count": 104,
   "metadata": {},
   "outputs": [],
   "source": [
    "mujeres = esperanza_vida[esperanza_vida['Series Name']==colmujer]\n",
    "hombres = esperanza_vida[esperanza_vida['Series Name']==colhombre]\n",
    "total = esperanza_vida[esperanza_vida['Series Name']==coltotal]\n"
   ]
  },
  {
   "cell_type": "code",
   "execution_count": 107,
   "metadata": {},
   "outputs": [],
   "source": [
    "percentiles_ingresos = pd.read_csv(\"../datos reales/percentiles_ingresos_PPA_2011.csv\")"
   ]
  },
  {
   "cell_type": "code",
   "execution_count": 111,
   "metadata": {},
   "outputs": [
    {
     "data": {
      "text/plain": [
       "Index(['country_code', 'year', 'reporting_level', 'welfare_type', 'percentile',\n",
       "       'avg_welfare', 'pop_share', 'welfare_share', 'quantile', 'pop'],\n",
       "      dtype='object')"
      ]
     },
     "execution_count": 111,
     "metadata": {},
     "output_type": "execute_result"
    }
   ],
   "source": [
    "percentiles_ingresos.columns"
   ]
  },
  {
   "cell_type": "code",
   "execution_count": 112,
   "metadata": {},
   "outputs": [
    {
     "name": "stdout",
     "output_type": "stream",
     "text": [
      "2000 tiene 59 paises\n",
      "2008 tiene 79 paises\n",
      "2018 tiene 92 paises\n",
      "1996 tiene 43 paises\n",
      "2002 tiene 68 paises\n",
      "2005 tiene 82 paises\n",
      "2012 tiene 86 paises\n",
      "2014 tiene 83 paises\n",
      "2015 tiene 86 paises\n",
      "2016 tiene 83 paises\n",
      "2017 tiene 79 paises\n",
      "2019 tiene 78 paises\n",
      "2020 tiene 66 paises\n",
      "2013 tiene 78 paises\n",
      "1980 tiene 7 paises\n",
      "1986 tiene 19 paises\n",
      "1987 tiene 27 paises\n",
      "1991 tiene 24 paises\n",
      "1992 tiene 41 paises\n",
      "1993 tiene 36 paises\n",
      "1994 tiene 31 paises\n",
      "1995 tiene 48 paises\n",
      "1997 tiene 37 paises\n",
      "1998 tiene 54 paises\n",
      "1999 tiene 45 paises\n",
      "2001 tiene 48 paises\n",
      "2003 tiene 70 paises\n",
      "2004 tiene 76 paises\n",
      "2006 tiene 82 paises\n",
      "2007 tiene 73 paises\n",
      "2009 tiene 82 paises\n",
      "2010 tiene 87 paises\n",
      "2011 tiene 81 paises\n",
      "2021 tiene 72 paises\n",
      "2022 tiene 28 paises\n",
      "1981 tiene 14 paises\n",
      "1985 tiene 17 paises\n",
      "1989 tiene 23 paises\n",
      "1988 tiene 16 paises\n",
      "1983 tiene 7 paises\n",
      "1990 tiene 23 paises\n",
      "1982 tiene 6 paises\n",
      "1984 tiene 13 paises\n",
      "1971 tiene 3 paises\n",
      "1973 tiene 3 paises\n",
      "1975 tiene 5 paises\n",
      "1977 tiene 5 paises\n",
      "1979 tiene 8 paises\n",
      "2023 tiene 4 paises\n",
      "1970 tiene 3 paises\n",
      "1968 tiene 2 paises\n",
      "1969 tiene 2 paises\n",
      "1972 tiene 2 paises\n",
      "1974 tiene 2 paises\n",
      "1976 tiene 2 paises\n",
      "1978 tiene 3 paises\n",
      "1963 tiene 1 paises\n",
      "1964 tiene 1 paises\n",
      "1965 tiene 1 paises\n",
      "1966 tiene 1 paises\n",
      "1967 tiene 1 paises\n"
     ]
    }
   ],
   "source": [
    "for year in sorted(percentiles_ingresos['year'].unique()):\n",
    "    print(f\"{year} tiene {len(percentiles_ingresos[percentiles_ingresos['year']==year]['country_code'].unique())} paises\")"
   ]
  }
 ],
 "metadata": {
  "kernelspec": {
   "display_name": "data_11",
   "language": "python",
   "name": "python3"
  },
  "language_info": {
   "codemirror_mode": {
    "name": "ipython",
    "version": 3
   },
   "file_extension": ".py",
   "mimetype": "text/x-python",
   "name": "python",
   "nbconvert_exporter": "python",
   "pygments_lexer": "ipython3",
   "version": "3.11.0"
  }
 },
 "nbformat": 4,
 "nbformat_minor": 2
}
