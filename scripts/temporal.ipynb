{
 "cells": [
  {
   "cell_type": "code",
   "execution_count": null,
   "metadata": {},
   "outputs": [
    {
     "name": "stderr",
     "output_type": "stream",
     "text": [
      "/tmp/ipykernel_95141/212448920.py:34: FutureWarning: When grouping with a length-1 list-like, you will need to pass a length-1 tuple to get_group in a future version of pandas. Pass `(name,)` instead of `name` to silence this warning.\n",
      "  ingresos = dg.get_group('income')\n",
      "/tmp/ipykernel_95141/212448920.py:35: FutureWarning: When grouping with a length-1 list-like, you will need to pass a length-1 tuple to get_group in a future version of pandas. Pass `(name,)` instead of `name` to silence this warning.\n",
      "  consumo  = dg.get_group('consumption')\n"
     ]
    }
   ],
   "source": [
    "# from general import *\n",
    "import pandas as pd\n",
    "import numpy as np\n",
    "import matplotlib.pyplot as plt\n",
    "from scipy.stats import pearsonr, spearmanr\n",
    "\n",
    "datos = pd.read_csv(\"../datos reales/percentiles_ingresos_PPA_2011.csv\")\n",
    "simulados = pd.read_csv(\"../datos simulados/datos_varianzas.csv\", sep='\\t')\n",
    "\n",
    "def Sintetizador(tam = 100):\n",
    "    def Sintesis(ingresos):\n",
    "        sintesis = 0\n",
    "        for ini in range(0,100,tam):\n",
    "            rango = ingresos.iloc[ini:(ini+tam)]\n",
    "            peso = np.sum(rango['pop_share'])\n",
    "            avg_rango = np.sum(rango['avg_welfare'] * rango['pop_share'])/peso\n",
    "            sintesis += np.log(avg_rango)*peso\n",
    "        return sintesis\n",
    "    return Sintesis\n",
    "\n",
    "def GenerarMuestra(muestra):\n",
    "    tams = list(filter(lambda x: 100%x==0, range(1,101)))\n",
    "    series = [ [] for _ in range(len(tams))]\n",
    "    mg = muestra.groupby(['country_code','year'])\n",
    "    for grupo in mg.groups:\n",
    "        sample = mg.get_group(grupo)\n",
    "        if len(sample)!=100: continue\n",
    "        for i in range(len(tams)):\n",
    "            series[-1-i].append(Sintetizador(tams[i])(sample))\n",
    "    return series\n",
    "\n",
    "datos = datos[(datos['reporting_level']=='national')]\n",
    "dg = datos.groupby(['welfare_type'])\n",
    "ingresos = dg.get_group('income')\n",
    "consumo  = dg.get_group('consumption')\n",
    "\n",
    "var_ingresos = GenerarMuestra(ingresos)\n",
    "var_consumo = GenerarMuestra(consumo)\n",
    "\n",
    "\n",
    "\n",
    "# fig.savefig(\"../figuras/figura_14_correlacion_vs_100_empirica.png\",bbox_inches='tight')"
   ]
  },
  {
   "cell_type": "code",
   "execution_count": null,
   "metadata": {},
   "outputs": [],
   "source": [
    "fig, axs = plt.subplots(2,1, figsize=(30,20))\n",
    "\n",
    "x = list(filter(lambda x : 100%x==0, range(1,101)))\n",
    "x = list(map(str, x))\n",
    "def Plot(ax, y, corr, label):\n",
    "    xs = list(range(len(x)))\n",
    "    ys = [corr(yi,y[-1]).correlation for yi in y]\n",
    "    ax.plot(xs,ys, label = label, linewidth=5)\n",
    "\n",
    "sg = simulados.groupby(['-1'])\n",
    "for (i, corr) in enumerate([pearsonr, spearmanr]):\n",
    "    Plot(axs[i], var_ingresos,corr, \"Ingresos\")\n",
    "    Plot(axs[i], var_consumo,corr, \"Consumo\")\n",
    "for s2 in [1,10]:\n",
    "    vals = sg.get_group(s2).to_numpy().T[-(len(x)):]\n",
    "    Plot(axs[0], vals,pearsonr, f\"$\\sigma^2={s2}$\")\n",
    "    Plot(axs[1], vals,spearmanr, f\"$\\sigma^2={s2}$\")\n",
    "for ax in axs:\n",
    "    ax.set_xticks(range(len(x)), x, fontsize=16)\n",
    "    ax.set_yticks(\n",
    "        np.linspace(0.65,1,8),\n",
    "        list(map(lambda x : f\"{x:.2f}\",np.linspace(0.65,1,8))),\n",
    "        fontsize=16)\n",
    "    ax.legend(fontsize=24)\n",
    "    ax.set_xlabel(\"Número de Grupos (X)\", fontsize=24)\n",
    "    ax.grid(linewidth=3)\n",
    "axs[0].set_ylabel(\"Pearson entre $BE_{X}$ y $BE_{100}$\", fontsize=24)\n",
    "axs[1].set_ylabel(\"Spearman entre $BE_{X}$ y $BE_{100}$\", fontsize=24)\n",
    "fig.suptitle(\"Correlación entre $BE_{X}$ y $BE_{100}$\", fontsize=48)\n",
    "fig.subplots_adjust(top=0.93) "
   ]
  }
 ],
 "metadata": {
  "kernelspec": {
   "display_name": "data_11",
   "language": "python",
   "name": "python3"
  },
  "language_info": {
   "codemirror_mode": {
    "name": "ipython",
    "version": 3
   },
   "file_extension": ".py",
   "mimetype": "text/x-python",
   "name": "python",
   "nbconvert_exporter": "python",
   "pygments_lexer": "ipython3",
   "version": "3.11.0"
  }
 },
 "nbformat": 4,
 "nbformat_minor": 2
}
